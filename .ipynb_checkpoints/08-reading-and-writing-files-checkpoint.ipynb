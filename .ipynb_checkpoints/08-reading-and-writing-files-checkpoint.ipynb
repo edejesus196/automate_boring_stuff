{
 "cells": [
  {
   "cell_type": "code",
   "execution_count": 1,
   "metadata": {},
   "outputs": [],
   "source": [
    "import os"
   ]
  },
  {
   "cell_type": "markdown",
   "metadata": {},
   "source": [
    "## Files and file paths"
   ]
  },
  {
   "cell_type": "markdown",
   "metadata": {},
   "source": [
    "### Joining folders"
   ]
  },
  {
   "cell_type": "code",
   "execution_count": 2,
   "metadata": {},
   "outputs": [
    {
     "data": {
      "text/plain": [
       "'usr\\\\bin\\\\spam'"
      ]
     },
     "execution_count": 2,
     "metadata": {},
     "output_type": "execute_result"
    }
   ],
   "source": [
    "os.path.join('usr', 'bin', 'spam')"
   ]
  },
  {
   "cell_type": "code",
   "execution_count": 3,
   "metadata": {},
   "outputs": [
    {
     "name": "stdout",
     "output_type": "stream",
     "text": [
      "C:\\Users\\asweigart\\accounts.txt\n",
      "C:\\Users\\asweigart\\details.csv\n",
      "C:\\Users\\asweigart\\invite.docx\n"
     ]
    }
   ],
   "source": [
    "# creating paths for multiple folders\n",
    "myFiles = ['accounts.txt', 'details.csv', 'invite.docx']\n",
    "\n",
    "for filename in myFiles:\n",
    "    print(os.path.join('C:\\\\Users\\\\asweigart', filename))"
   ]
  },
  {
   "cell_type": "markdown",
   "metadata": {},
   "source": [
    "### Current Working Directory"
   ]
  },
  {
   "cell_type": "code",
   "execution_count": 4,
   "metadata": {},
   "outputs": [
    {
     "data": {
      "text/plain": [
       "'C:\\\\Users\\\\edwar\\\\data-science\\\\automate_boring_stuff'"
      ]
     },
     "execution_count": 4,
     "metadata": {},
     "output_type": "execute_result"
    }
   ],
   "source": [
    "#get current working directory\n",
    "os.getcwd()"
   ]
  },
  {
   "cell_type": "code",
   "execution_count": null,
   "metadata": {},
   "outputs": [],
   "source": [
    "# change current working directory\n",
    "os.chdir()"
   ]
  },
  {
   "cell_type": "markdown",
   "metadata": {},
   "source": [
    "### Creating New Folders with os.makedirs()"
   ]
  },
  {
   "cell_type": "code",
   "execution_count": 5,
   "metadata": {},
   "outputs": [],
   "source": [
    "# create new folders\n",
    "os.makedirs('C:\\\\delicious\\\\walnut\\\\waffles')"
   ]
  },
  {
   "cell_type": "markdown",
   "metadata": {},
   "source": [
    "### Handling Absolute and Relative Paths\n"
   ]
  },
  {
   "cell_type": "code",
   "execution_count": 6,
   "metadata": {},
   "outputs": [
    {
     "data": {
      "text/plain": [
       "'C:\\\\Users\\\\edwar\\\\data-science\\\\automate_boring_stuff'"
      ]
     },
     "execution_count": 6,
     "metadata": {},
     "output_type": "execute_result"
    }
   ],
   "source": [
    "os.path.abspath('.')"
   ]
  },
  {
   "cell_type": "code",
   "execution_count": 7,
   "metadata": {},
   "outputs": [
    {
     "data": {
      "text/plain": [
       "'C:\\\\Users\\\\edwar\\\\data-science\\\\automate_boring_stuff\\\\Scripts'"
      ]
     },
     "execution_count": 7,
     "metadata": {},
     "output_type": "execute_result"
    }
   ],
   "source": [
    "os.path.abspath('.\\\\Scripts')"
   ]
  },
  {
   "cell_type": "code",
   "execution_count": 8,
   "metadata": {},
   "outputs": [
    {
     "data": {
      "text/plain": [
       "False"
      ]
     },
     "execution_count": 8,
     "metadata": {},
     "output_type": "execute_result"
    }
   ],
   "source": [
    "os.path.isabs('.')"
   ]
  },
  {
   "cell_type": "code",
   "execution_count": 10,
   "metadata": {},
   "outputs": [
    {
     "data": {
      "text/plain": [
       "True"
      ]
     },
     "execution_count": 10,
     "metadata": {},
     "output_type": "execute_result"
    }
   ],
   "source": [
    "os.path.isabs(os.path.abspath('.'))"
   ]
  },
  {
   "cell_type": "code",
   "execution_count": 11,
   "metadata": {},
   "outputs": [
    {
     "data": {
      "text/plain": [
       "'Windows'"
      ]
     },
     "execution_count": 11,
     "metadata": {},
     "output_type": "execute_result"
    }
   ],
   "source": [
    "os.path.relpath('C:\\\\Windows', 'C:\\\\')"
   ]
  },
  {
   "cell_type": "code",
   "execution_count": 12,
   "metadata": {},
   "outputs": [
    {
     "data": {
      "text/plain": [
       "'..\\\\..\\\\Windows'"
      ]
     },
     "execution_count": 12,
     "metadata": {},
     "output_type": "execute_result"
    }
   ],
   "source": [
    "os.path.relpath(\"C:\\\\Windows\", \"C:\\\\spam\\\\eggs\")"
   ]
  },
  {
   "cell_type": "code",
   "execution_count": 13,
   "metadata": {},
   "outputs": [
    {
     "data": {
      "text/plain": [
       "'C:\\\\Users\\\\edwar\\\\data-science\\\\automate_boring_stuff'"
      ]
     },
     "execution_count": 13,
     "metadata": {},
     "output_type": "execute_result"
    }
   ],
   "source": [
    "os.getcwd()"
   ]
  },
  {
   "cell_type": "code",
   "execution_count": 14,
   "metadata": {},
   "outputs": [
    {
     "ename": "TypeError",
     "evalue": "dirname() missing 1 required positional argument: 'p'",
     "output_type": "error",
     "traceback": [
      "\u001b[1;31m---------------------------------------------------------------------------\u001b[0m",
      "\u001b[1;31mTypeError\u001b[0m                                 Traceback (most recent call last)",
      "\u001b[1;32m<ipython-input-14-3a2cc5cc065f>\u001b[0m in \u001b[0;36m<module>\u001b[1;34m\u001b[0m\n\u001b[0;32m      1\u001b[0m \u001b[1;31m# calls everything before the last slash in the path\u001b[0m\u001b[1;33m\u001b[0m\u001b[1;33m\u001b[0m\u001b[1;33m\u001b[0m\u001b[0m\n\u001b[1;32m----> 2\u001b[1;33m \u001b[0mos\u001b[0m\u001b[1;33m.\u001b[0m\u001b[0mpath\u001b[0m\u001b[1;33m.\u001b[0m\u001b[0mdirname\u001b[0m\u001b[1;33m(\u001b[0m\u001b[1;33m)\u001b[0m\u001b[1;33m\u001b[0m\u001b[1;33m\u001b[0m\u001b[0m\n\u001b[0m\u001b[0;32m      3\u001b[0m \u001b[1;33m\u001b[0m\u001b[0m\n\u001b[0;32m      4\u001b[0m \u001b[1;31m# call everything after the last slash in the path\u001b[0m\u001b[1;33m\u001b[0m\u001b[1;33m\u001b[0m\u001b[1;33m\u001b[0m\u001b[0m\n\u001b[0;32m      5\u001b[0m \u001b[0mos\u001b[0m\u001b[1;33m.\u001b[0m\u001b[0mpath\u001b[0m\u001b[1;33m.\u001b[0m\u001b[0mbasename\u001b[0m\u001b[1;33m(\u001b[0m\u001b[1;33m)\u001b[0m\u001b[1;33m\u001b[0m\u001b[1;33m\u001b[0m\u001b[0m\n",
      "\u001b[1;31mTypeError\u001b[0m: dirname() missing 1 required positional argument: 'p'"
     ]
    }
   ],
   "source": [
    "# calls everything before the last slash in the path\n",
    "os.path.dirname()\n",
    "\n",
    "# call everything after the last slash in the path\n",
    "os.path.basename()"
   ]
  },
  {
   "cell_type": "code",
   "execution_count": 15,
   "metadata": {},
   "outputs": [
    {
     "data": {
      "text/plain": [
       "'calc.exe'"
      ]
     },
     "execution_count": 15,
     "metadata": {},
     "output_type": "execute_result"
    }
   ],
   "source": [
    "path = 'C:\\\\Windows\\\\System32\\\\calc.exe'\n",
    "os.path.basename(path)"
   ]
  },
  {
   "cell_type": "code",
   "execution_count": 16,
   "metadata": {},
   "outputs": [
    {
     "data": {
      "text/plain": [
       "'C:\\\\Windows\\\\System32'"
      ]
     },
     "execution_count": 16,
     "metadata": {},
     "output_type": "execute_result"
    }
   ],
   "source": [
    "os.path.dirname(path)"
   ]
  },
  {
   "cell_type": "code",
   "execution_count": null,
   "metadata": {},
   "outputs": [],
   "source": [
    "# call path's dir name and base name together in a tuple\n",
    "os.path.split()"
   ]
  },
  {
   "cell_type": "code",
   "execution_count": 17,
   "metadata": {},
   "outputs": [
    {
     "data": {
      "text/plain": [
       "('C:\\\\Windows\\\\System32', 'calc.exe')"
      ]
     },
     "execution_count": 17,
     "metadata": {},
     "output_type": "execute_result"
    }
   ],
   "source": [
    "calcFilePath = 'C:\\\\Windows\\\\System32\\\\calc.exe'\n",
    "os.path.split(calcFilePath)"
   ]
  },
  {
   "cell_type": "code",
   "execution_count": 18,
   "metadata": {},
   "outputs": [
    {
     "data": {
      "text/plain": [
       "('C:\\\\Windows\\\\System32', 'calc.exe')"
      ]
     },
     "execution_count": 18,
     "metadata": {},
     "output_type": "execute_result"
    }
   ],
   "source": [
    "# alternatively\n",
    "(os.path.dirname(calcFilePath), os.path.basename(calcFilePath))"
   ]
  },
  {
   "cell_type": "code",
   "execution_count": 19,
   "metadata": {},
   "outputs": [
    {
     "data": {
      "text/plain": [
       "['C:', 'Windows', 'System32', 'calc.exe']"
      ]
     },
     "execution_count": 19,
     "metadata": {},
     "output_type": "execute_result"
    }
   ],
   "source": [
    "#split folders into a list of strings using the split() string method\n",
    "calcFilePath.split(os.path.sep)"
   ]
  },
  {
   "cell_type": "markdown",
   "metadata": {},
   "source": [
    "### Finding file sizes and Folder contents"
   ]
  },
  {
   "cell_type": "code",
   "execution_count": 20,
   "metadata": {},
   "outputs": [
    {
     "data": {
      "text/plain": [
       "9771"
      ]
     },
     "execution_count": 20,
     "metadata": {},
     "output_type": "execute_result"
    }
   ],
   "source": [
    "# get file size\n",
    "os.path.getsize('C:\\\\Users\\\\edwar\\\\data-science\\\\automate_boring_stuff\\\\08-reading-and-writing-files.ipynb')"
   ]
  },
  {
   "cell_type": "code",
   "execution_count": 21,
   "metadata": {},
   "outputs": [
    {
     "data": {
      "text/plain": [
       "['.ipynb_checkpoints',\n",
       " '0409',\n",
       " '07409496-a423-4a3e-b620-2cfb01a9318d_HyperV-ComputeNetwork.dll',\n",
       " '69fe178f-26e7-43a9-aa7d-2b616b672dde_eventlogservice.dll',\n",
       " '6bea57fb-8dfb-4177-9ae8-42e8b3529933_RuntimeDeviceInstall.dll',\n",
       " '@AdvancedKeySettingsNotification.png',\n",
       " '@AppHelpToast.png',\n",
       " '@AudioToastIcon.png',\n",
       " '@BackgroundAccessToastIcon.png',\n",
       " '@bitlockertoastimage.png',\n",
       " '@edptoastimage.png',\n",
       " '@EnrollmentToastIcon.png',\n",
       " '@language_notification_icon.png',\n",
       " '@optionalfeatures.png',\n",
       " '@StorageSenseToastIcon.png',\n",
       " '@VpnToastIcon.png',\n",
       " '@windows-hello-V4.1.gif',\n",
       " '@WindowsHelloFaceToastIcon.png',\n",
       " '@WindowsUpdateToastIcon.contrast-black.png',\n",
       " '@WindowsUpdateToastIcon.contrast-white.png',\n",
       " '@WindowsUpdateToastIcon.png',\n",
       " '@WirelessDisplayToast.png',\n",
       " '@WLOGO_48x48.png',\n",
       " 'aadauthhelper.dll',\n",
       " 'aadcloudap.dll',\n",
       " 'aadjcsp.dll',\n",
       " 'aadtb.dll',\n",
       " 'aadWamExtension.dll',\n",
       " 'AarSvc.dll',\n",
       " 'AboutSettingsHandlers.dll',\n",
       " 'AboveLockAppHost.dll',\n",
       " 'accessibilitycpl.dll',\n",
       " 'accountaccessor.dll',\n",
       " 'AccountsRt.dll',\n",
       " 'AcGenral.dll',\n",
       " 'AcLayers.dll',\n",
       " 'acledit.dll',\n",
       " 'aclui.dll',\n",
       " 'acmigration.dll',\n",
       " 'ACPBackgroundManagerPolicy.dll',\n",
       " 'acppage.dll',\n",
       " 'acproxy.dll',\n",
       " 'AcSpecfc.dll',\n",
       " 'ActionCenter.dll',\n",
       " 'ActionCenterCPL.dll',\n",
       " 'ActionQueue.dll',\n",
       " 'ActivationClient.dll',\n",
       " 'ActivationManager.dll',\n",
       " 'activeds.dll',\n",
       " 'activeds.tlb',\n",
       " 'ActiveHours.png',\n",
       " 'ActiveSyncCsp.dll',\n",
       " 'ActiveSyncProvider.dll',\n",
       " 'actxprxy.dll',\n",
       " 'AcWinRT.dll',\n",
       " 'AcXtrnal.dll',\n",
       " 'AdaptiveCards.dll',\n",
       " 'AddressParser.dll',\n",
       " 'adhapi.dll',\n",
       " 'adhsvc.dll',\n",
       " 'AdobePDF.dll',\n",
       " 'AdobePDFUI.dll',\n",
       " 'adprovider.dll',\n",
       " 'adsldp.dll',\n",
       " 'adsldpc.dll',\n",
       " 'adsmsext.dll',\n",
       " 'adsnt.dll',\n",
       " 'adtschema.dll',\n",
       " 'AdvancedEmojiDS.dll',\n",
       " 'AdvancedInstallers',\n",
       " 'advapi32.dll',\n",
       " 'advapi32res.dll',\n",
       " 'advpack.dll',\n",
       " 'aeevts.dll',\n",
       " 'aeinv.dll',\n",
       " 'aepic.dll',\n",
       " 'agentactivationruntime.dll',\n",
       " 'agentactivationruntimestarter.exe',\n",
       " 'agentactivationruntimewindows.dll',\n",
       " 'aitstatic.exe',\n",
       " 'AJRouter.dll',\n",
       " 'alg.exe',\n",
       " 'altspace.dll',\n",
       " 'am-et',\n",
       " 'amcompat.tlb',\n",
       " 'amsi.dll',\n",
       " 'amsiproxy.dll',\n",
       " 'amstream.dll',\n",
       " 'Analog.Shell.Broker.dll',\n",
       " 'AnalogCommonProxyStub.dll',\n",
       " 'apds.dll',\n",
       " 'APHostClient.dll',\n",
       " 'APHostRes.dll',\n",
       " 'APHostService.dll',\n",
       " 'apisampling.dll',\n",
       " 'ApiSetHost.AppExecutionAlias.dll',\n",
       " 'apisetschema.dll',\n",
       " 'APMon.dll',\n",
       " 'AppContracts.dll',\n",
       " 'AppExtension.dll',\n",
       " 'apphelp.dll',\n",
       " 'Apphlpdm.dll',\n",
       " 'AppHostRegistrationVerifier.exe',\n",
       " 'appidapi.dll',\n",
       " 'appidcertstorecheck.exe',\n",
       " 'appidpolicyconverter.exe',\n",
       " 'appidsvc.dll',\n",
       " 'appidtel.exe',\n",
       " 'appinfo.dll',\n",
       " 'appinfoext.dll',\n",
       " 'AppInstallerPrompt.Desktop.dll',\n",
       " 'ApplicationControlCSP.dll',\n",
       " 'ApplicationFrame.dll',\n",
       " 'ApplicationFrameHost.exe',\n",
       " 'AppLocker',\n",
       " 'AppLockerCSP.dll',\n",
       " 'ApplyTrustOffline.exe',\n",
       " 'AppMon.dll',\n",
       " 'AppointmentActivation.dll',\n",
       " 'AppointmentApis.dll',\n",
       " 'appraiser',\n",
       " 'appraiser.dll',\n",
       " 'AppReadiness.dll',\n",
       " 'apprepapi.dll',\n",
       " 'AppResolver.dll',\n",
       " 'ApproveChildRequest.exe',\n",
       " 'appsruprov.dll',\n",
       " 'appwiz.cpl',\n",
       " 'AppxAllUserStore.dll',\n",
       " 'AppXApplicabilityBlob.dll',\n",
       " 'AppxApplicabilityEngine.dll',\n",
       " 'AppXDeploymentClient.dll',\n",
       " 'AppXDeploymentExtensions.desktop.dll',\n",
       " 'AppXDeploymentExtensions.onecore.dll',\n",
       " 'AppXDeploymentServer.dll',\n",
       " 'AppxPackaging.dll',\n",
       " 'AppxProvisioning.xml',\n",
       " 'AppxSip.dll',\n",
       " 'AppxStreamingDataSourcePS.dll',\n",
       " 'AppxSysprep.dll',\n",
       " 'ar-SA',\n",
       " 'archiveint.dll',\n",
       " 'ARP.EXE',\n",
       " 'asferror.dll',\n",
       " 'AsIO2.dll',\n",
       " 'aspnet_counters.dll',\n",
       " 'AssignedAccessRuntime.dll',\n",
       " 'AsusDownloadAgent.exe',\n",
       " 'AsusDownLoadLicense.exe',\n",
       " 'AsusUpdateCheck.exe',\n",
       " 'aswBoot.exe',\n",
       " 'asycfilt.dll',\n",
       " 'at.exe',\n",
       " 'AtBroker.exe',\n",
       " 'atl.dll',\n",
       " 'atl100.dll',\n",
       " 'atl110.dll',\n",
       " 'atlthunk.dll',\n",
       " 'atmlib.dll',\n",
       " 'attrib.exe',\n",
       " 'audiodg.exe',\n",
       " 'AudioEndpointBuilder.dll',\n",
       " 'AudioEng.dll',\n",
       " 'AudioHandlers.dll',\n",
       " 'AUDIOKSE.dll',\n",
       " 'audioresourceregistrar.dll',\n",
       " 'AudioSes.dll',\n",
       " 'audiosrv.dll',\n",
       " 'AudioSrvPolicyManager.dll',\n",
       " 'auditcse.dll',\n",
       " 'auditpol.exe',\n",
       " 'auditpolcore.dll',\n",
       " 'AuthBroker.dll',\n",
       " 'AuthBrokerUI.dll',\n",
       " 'authentication.dll',\n",
       " 'AuthExt.dll',\n",
       " 'authfwcfg.dll',\n",
       " 'AuthFWGP.dll',\n",
       " 'AuthFWSnapin.dll',\n",
       " 'AuthFWWizFwk.dll',\n",
       " 'AuthHost.exe',\n",
       " 'AuthHostProxy.dll',\n",
       " 'authui.dll',\n",
       " 'authz.dll',\n",
       " 'autochk.exe',\n",
       " 'autoconv.exe',\n",
       " 'autofmt.exe',\n",
       " 'autopilot.dll',\n",
       " 'autopilotdiag.dll',\n",
       " 'autoplay.dll',\n",
       " 'autotimesvc.dll',\n",
       " 'AverageRoom.bin',\n",
       " 'avicap32.dll',\n",
       " 'avifil32.dll',\n",
       " 'avrt.dll',\n",
       " 'AxInstSv.dll',\n",
       " 'AxInstUI.exe',\n",
       " 'azman.msc',\n",
       " 'azroles.dll',\n",
       " 'azroleui.dll',\n",
       " 'AzSqlExt.dll',\n",
       " 'AzureSettingSyncProvider.dll',\n",
       " 'BackgroundMediaPolicy.dll',\n",
       " 'backgroundTaskHost.exe',\n",
       " 'BackgroundTransferHost.exe',\n",
       " 'BamSettingsClient.dll',\n",
       " 'BarcodeProvisioningPlugin.dll',\n",
       " 'basecsp.dll',\n",
       " 'basesrv.dll',\n",
       " 'bash.exe',\n",
       " 'batmeter.dll',\n",
       " 'bcastdvr.proxy.dll',\n",
       " 'BcastDVRBroker.dll',\n",
       " 'BcastDVRClient.dll',\n",
       " 'BcastDVRCommon.dll',\n",
       " 'bcastdvruserservice.dll',\n",
       " 'bcd.dll',\n",
       " 'bcdboot.exe',\n",
       " 'bcdedit.exe',\n",
       " 'bcdprov.dll',\n",
       " 'bcdsrv.dll',\n",
       " 'BCP47Langs.dll',\n",
       " 'BCP47mrm.dll',\n",
       " 'bcrypt.dll',\n",
       " 'bcryptprimitives.dll',\n",
       " 'bdaplgin.ax',\n",
       " 'BdeHdCfgLib.dll',\n",
       " 'bderepair.dll',\n",
       " 'bdesvc.dll',\n",
       " 'bdeui.dll',\n",
       " 'BdeUISrv.exe',\n",
       " 'bdeunlock.exe',\n",
       " 'BFE.DLL',\n",
       " 'bg-BG',\n",
       " 'bi.dll',\n",
       " 'bidispl.dll',\n",
       " 'bindfltapi.dll',\n",
       " 'BingASDS.dll',\n",
       " 'BingFilterDS.dll',\n",
       " 'BingMaps.dll',\n",
       " 'BingOnlineServices.dll',\n",
       " 'BioCredProv.dll',\n",
       " 'BioIso.exe',\n",
       " 'bisrv.dll',\n",
       " 'BitLockerCsp.dll',\n",
       " 'BitLockerDeviceEncryption.exe',\n",
       " 'BitLockerWizardElev.exe',\n",
       " 'bitsadmin.exe',\n",
       " 'bitsigd.dll',\n",
       " 'bitsperf.dll',\n",
       " 'BitsProxy.dll',\n",
       " 'biwinrt.dll',\n",
       " 'BlbEvents.dll',\n",
       " 'blbres.dll',\n",
       " 'blb_ps.dll',\n",
       " 'BluetoothApis.dll',\n",
       " 'BluetoothDesktopHandlers.dll',\n",
       " 'BluetoothPairingSystemToastIcon.contrast-black.png',\n",
       " 'BluetoothPairingSystemToastIcon.contrast-high.png',\n",
       " 'BluetoothPairingSystemToastIcon.contrast-white.png',\n",
       " 'BluetoothPairingSystemToastIcon.png',\n",
       " 'BluetoothSystemToastIcon.contrast-white.png',\n",
       " 'BluetoothSystemToastIcon.png',\n",
       " 'bnmanager.dll',\n",
       " 'Boot',\n",
       " 'boot.sdi',\n",
       " 'bootcfg.exe',\n",
       " 'bootim.exe',\n",
       " 'BootMenuUX.dll',\n",
       " 'bootsect.exe',\n",
       " 'bootstr.dll',\n",
       " 'bootux.dll',\n",
       " 'BOOTVID.DLL',\n",
       " 'bopomofo.uce',\n",
       " 'BRADM13A.DAT',\n",
       " 'BRCOM13A.DLL',\n",
       " 'bridgeres.dll',\n",
       " 'bridgeunattend.exe',\n",
       " 'BrokerLib.dll',\n",
       " 'browcli.dll',\n",
       " 'browserbroker.dll',\n",
       " 'browserexport.exe',\n",
       " 'BrowserSettingSync.dll',\n",
       " 'browser_broker.exe',\n",
       " 'browseui.dll',\n",
       " 'BTAGService.dll',\n",
       " 'BthAvctpSvc.dll',\n",
       " 'BthAvrcp.dll',\n",
       " 'BthAvrcpAppSvc.dll',\n",
       " 'bthci.dll',\n",
       " 'BthMtpContextHandler.dll',\n",
       " 'bthpanapi.dll',\n",
       " 'BthpanContextHandler.dll',\n",
       " 'Bthprops',\n",
       " 'bthprops.cpl',\n",
       " 'BthRadioMedia.dll',\n",
       " 'bthserv.dll',\n",
       " 'BthTelemetry.dll',\n",
       " 'bthudtask.exe',\n",
       " 'btpanui.dll',\n",
       " 'Bubbles.scr',\n",
       " 'BWContextHandler.dll',\n",
       " 'ByteCodeGenerator.exe',\n",
       " 'c4d66f00-b6f0-4439-ac9b-c5ea13fe54d7_HyperV-ComputeCore.dll',\n",
       " 'cabapi.dll',\n",
       " 'cabinet.dll',\n",
       " 'cabview.dll',\n",
       " 'cacls.exe',\n",
       " 'calc.exe',\n",
       " 'CallButtons.dll',\n",
       " 'CallButtons.ProxyStub.dll',\n",
       " 'CallHistoryClient.dll',\n",
       " 'CameraCaptureUI.dll',\n",
       " 'CameraSettingsUIHost.exe',\n",
       " 'CapabilityAccessHandlers.dll',\n",
       " 'CapabilityAccessManager.dll',\n",
       " 'CapabilityAccessManagerClient.dll',\n",
       " 'capauthz.dll',\n",
       " 'capiprovider.dll',\n",
       " 'capisp.dll',\n",
       " 'CaptureService.dll',\n",
       " 'CastingShellExt.dll',\n",
       " 'CastLaunch.dll',\n",
       " 'CastSrv.exe',\n",
       " 'CatRoot',\n",
       " 'catroot2',\n",
       " 'catsrv.dll',\n",
       " 'catsrvps.dll',\n",
       " 'catsrvut.dll',\n",
       " 'CBDHSvc.dll',\n",
       " 'cca.dll',\n",
       " 'cdd.dll',\n",
       " 'cdosys.dll',\n",
       " 'cdp.dll',\n",
       " 'cdprt.dll',\n",
       " 'cdpsvc.dll',\n",
       " 'cdpusersvc.dll',\n",
       " 'CellularAPI.dll',\n",
       " 'cellulardatacapabilityhandler.dll',\n",
       " 'cemapi.dll',\n",
       " 'cero.rs',\n",
       " 'certca.dll',\n",
       " 'certcli.dll',\n",
       " 'certCredProvider.dll',\n",
       " 'certenc.dll',\n",
       " 'CertEnroll.dll',\n",
       " 'CertEnrollCtrl.exe',\n",
       " 'CertEnrollUI.dll',\n",
       " 'certlm.msc',\n",
       " 'certmgr.dll',\n",
       " 'certmgr.msc',\n",
       " 'CertPKICmdlet.dll',\n",
       " 'CertPolEng.dll',\n",
       " 'certprop.dll',\n",
       " 'certreq.exe',\n",
       " 'certutil.exe',\n",
       " 'cewmdm.dll',\n",
       " 'cfgbkend.dll',\n",
       " 'cfgmgr32.dll',\n",
       " 'CfgSPCellular.dll',\n",
       " 'CfgSPPolicy.dll',\n",
       " 'cflapi.dll',\n",
       " 'cfmifs.dll',\n",
       " 'cfmifsproxy.dll',\n",
       " 'Chakra.dll',\n",
       " 'Chakradiag.dll',\n",
       " 'Chakrathunk.dll',\n",
       " 'changepk.exe',\n",
       " 'charmap.exe',\n",
       " 'chartv.dll',\n",
       " 'ChatApis.dll',\n",
       " 'chcp.com',\n",
       " 'CheckNetIsolation.exe',\n",
       " 'chkdsk.exe',\n",
       " 'chkntfs.exe',\n",
       " 'chkwudrv.dll',\n",
       " 'choice.exe',\n",
       " 'ChsStrokeDS.dll',\n",
       " 'chs_singlechar_pinyin.dat',\n",
       " 'ChtAdvancedDS.dll',\n",
       " 'ChtBopomofoDS.dll',\n",
       " 'ChtCangjieDS.dll',\n",
       " 'ChtHkStrokeDS.dll',\n",
       " 'ChtQuickDS.dll',\n",
       " 'ChxAPDS.dll',\n",
       " 'ChxDecoder.dll',\n",
       " 'ChxHAPDS.dll',\n",
       " 'chxinputrouter.dll',\n",
       " 'chxranker.dll',\n",
       " 'CHxReadingStringIME.dll',\n",
       " 'ci.dll',\n",
       " 'cic.dll',\n",
       " 'CIDiag.exe',\n",
       " 'cimfs.dll',\n",
       " 'cipher.exe',\n",
       " 'CIRCoInst.dll',\n",
       " 'clb.dll',\n",
       " 'clbcatq.dll',\n",
       " 'cldapi.dll',\n",
       " 'cleanmgr.exe',\n",
       " 'CleanPCCSP.dll',\n",
       " 'clfsw32.dll',\n",
       " 'ClickToRun_Pipeline16',\n",
       " 'cliconfg.dll',\n",
       " 'cliconfg.exe',\n",
       " 'cliconfg.rll',\n",
       " 'clip.exe',\n",
       " 'ClipboardServer.dll',\n",
       " 'Clipc.dll',\n",
       " 'ClipRenew.exe',\n",
       " 'ClipSVC.dll',\n",
       " 'ClipUp.exe',\n",
       " 'clipwinrt.dll',\n",
       " 'cloudAP.dll',\n",
       " 'CloudDomainJoinAUG.dll',\n",
       " 'CloudDomainJoinDataModelServer.dll',\n",
       " 'CloudExperienceHost.dll',\n",
       " 'CloudExperienceHostBroker.dll',\n",
       " 'CloudExperienceHostBroker.exe',\n",
       " 'CloudExperienceHostCommon.dll',\n",
       " 'CloudExperienceHostUser.dll',\n",
       " 'CloudNotifications.exe',\n",
       " 'clrhost.dll',\n",
       " 'clusapi.dll',\n",
       " 'cmcfg32.dll',\n",
       " 'cmd.exe',\n",
       " 'cmdext.dll',\n",
       " 'cmdial32.dll',\n",
       " 'cmdkey.exe',\n",
       " 'cmdl32.exe',\n",
       " 'cmgrcspps.dll',\n",
       " 'cmifw.dll',\n",
       " 'cmintegrator.dll',\n",
       " 'cmlua.dll',\n",
       " 'cmmon32.exe',\n",
       " 'cmpbk32.dll',\n",
       " 'cmstp.exe',\n",
       " 'cmstplua.dll',\n",
       " 'cmutil.dll',\n",
       " 'cngcredui.dll',\n",
       " 'cngprovider.dll',\n",
       " 'CNMLMC4.DLL',\n",
       " 'cnvfat.dll',\n",
       " 'cob-au.rs',\n",
       " 'CodeIntegrity',\n",
       " 'cofire.exe',\n",
       " 'cofiredm.dll',\n",
       " 'colbact.dll',\n",
       " 'coloradapterclient.dll',\n",
       " 'COLORCNV.DLL',\n",
       " 'colorcpl.exe',\n",
       " 'colorui.dll',\n",
       " 'Com',\n",
       " 'combase.dll',\n",
       " 'comcat.dll',\n",
       " 'comctl32.dll',\n",
       " 'comdlg32.dll',\n",
       " 'comexp.msc',\n",
       " 'coml2.dll',\n",
       " 'comp.exe',\n",
       " 'compact.exe',\n",
       " 'CompatTelRunner.exe',\n",
       " 'compmgmt.msc',\n",
       " 'CompMgmtLauncher.exe',\n",
       " 'ComposableShellProxyStub.dll',\n",
       " 'ComposerFramework.dll',\n",
       " 'CompPkgSrv.exe',\n",
       " 'CompPkgSup.dll',\n",
       " 'compstui.dll',\n",
       " 'computecore.dll',\n",
       " 'computelibeventlog.dll',\n",
       " 'computenetwork.dll',\n",
       " 'ComputerDefaults.exe',\n",
       " 'ComputerToastIcon.contrast-white.png',\n",
       " 'ComputerToastIcon.png',\n",
       " 'computestorage.dll',\n",
       " 'comrepl.dll',\n",
       " 'comres.dll',\n",
       " 'comsnap.dll',\n",
       " 'comsvcs.dll',\n",
       " 'comuid.dll',\n",
       " 'concrt140.dll',\n",
       " 'config',\n",
       " 'configmanager2.dll',\n",
       " 'Configuration',\n",
       " 'ConfigureExpandedStorage.dll',\n",
       " 'conhost.exe',\n",
       " 'ConhostV1.dll',\n",
       " 'connect.dll',\n",
       " 'ConnectedAccountState.dll',\n",
       " 'consent.exe',\n",
       " 'ConsentExperienceCommon.dll',\n",
       " 'ConsentUX.dll',\n",
       " 'ConsentUxClient.dll',\n",
       " 'console.dll',\n",
       " 'ConsoleLogon.dll',\n",
       " 'ConstraintIndex.Search.dll',\n",
       " 'ContactActivation.dll',\n",
       " 'ContactApis.dll',\n",
       " 'ContactHarvesterDS.dll',\n",
       " 'container.dll',\n",
       " 'containerdevicemanagement.dll',\n",
       " 'ContainerSettingsProviders',\n",
       " 'ContentDeliveryManager.Utilities.dll',\n",
       " 'control.exe',\n",
       " 'convert.exe',\n",
       " 'convertvhd.exe',\n",
       " 'coreaudiopolicymanagerext.dll',\n",
       " 'coredpus.dll',\n",
       " 'coredpussvr.exe',\n",
       " 'coreglobconfig.dll',\n",
       " 'CoreMas.dll',\n",
       " 'CoreMessaging.dll',\n",
       " 'CoreMmRes.dll',\n",
       " 'CoreShell.dll',\n",
       " 'CoreShellAPI.dll',\n",
       " 'CoreShellExtFramework.dll',\n",
       " 'CoreUIComponents.dll',\n",
       " 'correngine.dll',\n",
       " 'courgette.log',\n",
       " 'CourtesyEngine.dll',\n",
       " 'CPFilters.dll',\n",
       " 'CredDialogBroker.dll',\n",
       " 'CredentialEnrollmentManager.exe',\n",
       " 'CredentialEnrollmentManagerForUser.dll',\n",
       " 'CredentialUIBroker.exe',\n",
       " 'CredProv2faHelper.dll',\n",
       " 'CredProvDataModel.dll',\n",
       " 'CredProvHelper.dll',\n",
       " 'credprovhost.dll',\n",
       " 'credprovs.dll',\n",
       " 'credprovslegacy.dll',\n",
       " 'credssp.dll',\n",
       " 'credui.dll',\n",
       " 'credwiz.exe',\n",
       " 'crypt32.dll',\n",
       " 'cryptbase.dll',\n",
       " 'cryptcatsvc.dll',\n",
       " 'cryptdlg.dll',\n",
       " 'cryptdll.dll',\n",
       " 'cryptext.dll',\n",
       " 'cryptnet.dll',\n",
       " 'cryptngc.dll',\n",
       " 'CryptoWinRT.dll',\n",
       " 'cryptsp.dll',\n",
       " 'cryptsvc.dll',\n",
       " 'crypttpmeksvc.dll',\n",
       " 'cryptui.dll',\n",
       " 'cryptuiwizard.dll',\n",
       " 'cryptxml.dll',\n",
       " 'cs-CZ',\n",
       " 'cscapi.dll',\n",
       " 'cscdll.dll',\n",
       " 'cscript.exe',\n",
       " 'CspCellularSettings.dll',\n",
       " 'csplte.dll',\n",
       " 'CspProxy.dll',\n",
       " 'csrr.rs',\n",
       " 'csrsrv.dll',\n",
       " 'csrss.exe',\n",
       " 'CSystemEventsBrokerClient.dll',\n",
       " 'ctfmon.exe',\n",
       " 'cttune.exe',\n",
       " 'cttunesvr.exe',\n",
       " 'cudart64_55.dll',\n",
       " 'cudart64_92.dll',\n",
       " 'curl.exe',\n",
       " 'CustomInstallExec.exe',\n",
       " 'cxcredprov.dll',\n",
       " 'CXHProvisioningServer.dll',\n",
       " 'C_037.NLS',\n",
       " 'C_10000.NLS',\n",
       " 'C_10001.NLS',\n",
       " 'C_10002.NLS',\n",
       " 'C_10003.NLS',\n",
       " 'C_10004.NLS',\n",
       " 'C_10005.NLS',\n",
       " 'C_10006.NLS',\n",
       " 'C_10007.NLS',\n",
       " 'C_10008.NLS',\n",
       " 'C_10010.NLS',\n",
       " 'C_10017.NLS',\n",
       " 'C_10021.NLS',\n",
       " 'C_10029.NLS',\n",
       " 'C_10079.NLS',\n",
       " 'C_10081.NLS',\n",
       " 'C_10082.NLS',\n",
       " 'C_1026.NLS',\n",
       " 'C_1047.NLS',\n",
       " 'C_1140.NLS',\n",
       " 'C_1141.NLS',\n",
       " 'C_1142.NLS',\n",
       " 'C_1143.NLS',\n",
       " 'C_1144.NLS',\n",
       " 'C_1145.NLS',\n",
       " 'C_1146.NLS',\n",
       " 'C_1147.NLS',\n",
       " 'C_1148.NLS',\n",
       " 'C_1149.NLS',\n",
       " 'C_1250.NLS',\n",
       " 'C_1251.NLS',\n",
       " 'C_1252.NLS',\n",
       " 'C_1253.NLS',\n",
       " 'C_1254.NLS',\n",
       " 'C_1255.NLS',\n",
       " 'C_1256.NLS',\n",
       " 'C_1257.NLS',\n",
       " 'C_1258.NLS',\n",
       " 'C_1361.NLS',\n",
       " 'C_20000.NLS',\n",
       " 'C_20001.NLS',\n",
       " 'C_20002.NLS',\n",
       " 'C_20003.NLS',\n",
       " 'C_20004.NLS',\n",
       " 'C_20005.NLS',\n",
       " 'C_20105.NLS',\n",
       " 'C_20106.NLS',\n",
       " 'C_20107.NLS',\n",
       " 'C_20108.NLS',\n",
       " 'C_20127.NLS',\n",
       " 'C_20261.NLS',\n",
       " 'C_20269.NLS',\n",
       " 'C_20273.NLS',\n",
       " 'C_20277.NLS',\n",
       " 'C_20278.NLS',\n",
       " 'C_20280.NLS',\n",
       " 'C_20284.NLS',\n",
       " 'C_20285.NLS',\n",
       " 'C_20290.NLS',\n",
       " 'C_20297.NLS',\n",
       " 'C_20420.NLS',\n",
       " 'C_20423.NLS',\n",
       " 'C_20424.NLS',\n",
       " 'C_20833.NLS',\n",
       " 'C_20838.NLS',\n",
       " 'C_20866.NLS',\n",
       " 'C_20871.NLS',\n",
       " 'C_20880.NLS',\n",
       " 'C_20905.NLS',\n",
       " 'C_20924.NLS',\n",
       " 'C_20932.NLS',\n",
       " 'C_20936.NLS',\n",
       " 'C_20949.NLS',\n",
       " 'C_21025.NLS',\n",
       " 'C_21027.NLS',\n",
       " 'C_21866.NLS',\n",
       " 'C_28591.NLS',\n",
       " 'C_28592.NLS',\n",
       " 'C_28593.NLS',\n",
       " 'C_28594.NLS',\n",
       " 'C_28595.NLS',\n",
       " 'C_28596.NLS',\n",
       " 'C_28597.NLS',\n",
       " 'C_28598.NLS',\n",
       " 'C_28599.NLS',\n",
       " 'c_28603.nls',\n",
       " 'C_28605.NLS',\n",
       " 'C_437.NLS',\n",
       " 'C_500.NLS',\n",
       " 'C_708.NLS',\n",
       " 'C_720.NLS',\n",
       " 'C_737.NLS',\n",
       " 'C_775.NLS',\n",
       " 'C_850.NLS',\n",
       " 'C_852.NLS',\n",
       " 'C_855.NLS',\n",
       " 'C_857.NLS',\n",
       " 'C_858.NLS',\n",
       " 'C_860.NLS',\n",
       " 'C_861.NLS',\n",
       " 'C_862.NLS',\n",
       " 'C_863.NLS',\n",
       " 'C_864.NLS',\n",
       " 'C_865.NLS',\n",
       " 'C_866.NLS',\n",
       " 'C_869.NLS',\n",
       " 'C_870.NLS',\n",
       " 'C_874.NLS',\n",
       " 'C_875.NLS',\n",
       " 'C_932.NLS',\n",
       " 'C_936.NLS',\n",
       " 'C_949.NLS',\n",
       " 'C_950.NLS',\n",
       " 'C_G18030.DLL',\n",
       " 'c_GSM7.DLL',\n",
       " 'C_IS2022.DLL',\n",
       " 'C_ISCII.DLL',\n",
       " 'd2d1.dll',\n",
       " 'd3d10.dll',\n",
       " 'd3d10core.dll',\n",
       " 'd3d10level9.dll',\n",
       " 'd3d10warp.dll',\n",
       " 'd3d10_1.dll',\n",
       " 'd3d10_1core.dll',\n",
       " 'd3d11.dll',\n",
       " 'd3d11on12.dll',\n",
       " 'D3D12.dll',\n",
       " 'D3D12Core.dll',\n",
       " 'd3d8thk.dll',\n",
       " 'd3d9.dll',\n",
       " 'd3d9on12.dll',\n",
       " 'D3DCompiler_43.dll',\n",
       " 'D3DCompiler_47.dll',\n",
       " 'd3dcsx_43.dll',\n",
       " 'D3DSCache.dll',\n",
       " 'd3dx10_43.dll',\n",
       " 'd3dx11_43.dll',\n",
       " 'D3DX9_43.dll',\n",
       " 'd4d78066-e6db-44b7-b5cd-2eb82dce620c_HyperV-ComputeLegacy.dll',\n",
       " 'da-DK',\n",
       " 'dab.dll',\n",
       " 'dabapi.dll',\n",
       " 'DAConn.dll',\n",
       " 'dafAspInfraProvider.dll',\n",
       " 'dafBth.dll',\n",
       " 'DafDnsSd.dll',\n",
       " 'dafDockingProvider.dll',\n",
       " 'DafGip.dll',\n",
       " 'DAFIoT.dll',\n",
       " 'DAFIPP.dll',\n",
       " 'DAFMCP.dll',\n",
       " 'dafpos.dll',\n",
       " 'DafPrintProvider.dll',\n",
       " 'dafupnp.dll',\n",
       " 'dafWCN.dll',\n",
       " 'dafWfdProvider.dll',\n",
       " 'DAFWiProv.dll',\n",
       " 'DAFWSD.dll',\n",
       " 'DAMediaManager.dll',\n",
       " 'DAMM.dll',\n",
       " 'DaOtpCredentialProvider.dll',\n",
       " 'das.dll',\n",
       " 'dasHost.exe',\n",
       " 'dataclen.dll',\n",
       " 'DataExchange.dll',\n",
       " 'DataExchangeHost.exe',\n",
       " 'datamarketsvc.dll',\n",
       " 'DataStoreCacheDumpTool.exe',\n",
       " 'DataUsageHandlers.dll',\n",
       " 'DataUsageLiveTileTask.exe',\n",
       " 'datusage.dll',\n",
       " 'davclnt.dll',\n",
       " 'davhlpr.dll',\n",
       " 'DavSyncProvider.dll',\n",
       " 'daxexec.dll',\n",
       " 'dbgcore.dll',\n",
       " 'dbgeng.dll',\n",
       " 'dbghelp.dll',\n",
       " 'DbgModel.dll',\n",
       " 'dbnetlib.dll',\n",
       " 'dbnmpntw.dll',\n",
       " 'dccw.exe',\n",
       " 'dciman32.dll',\n",
       " 'dcntel.dll',\n",
       " 'dcomcnfg.exe',\n",
       " 'dcomp.dll',\n",
       " 'DDACLSys.dll',\n",
       " 'DdcAntiTheftApi.dll',\n",
       " 'DdcClaimsApi.dll',\n",
       " 'DdcComImplementationsDesktop.dll',\n",
       " 'DDDS.dll',\n",
       " 'DDFs',\n",
       " 'ddisplay.dll',\n",
       " 'ddodiag.exe',\n",
       " 'DDOIProxy.dll',\n",
       " 'DDORes.dll',\n",
       " 'ddraw.dll',\n",
       " 'ddrawex.dll',\n",
       " 'de-DE',\n",
       " 'DefaultAccountTile.png',\n",
       " 'DefaultDeviceManager.dll',\n",
       " 'DefaultHrtfs.bin',\n",
       " 'DefaultPrinterProvider.dll',\n",
       " 'DefaultQuestions.json',\n",
       " 'Defrag.exe',\n",
       " 'defragproxy.dll',\n",
       " 'defragres.dll',\n",
       " 'defragsvc.dll',\n",
       " 'delegatorprovider.dll',\n",
       " 'DeliveryOptimizationMIProv.mof',\n",
       " 'DeliveryOptimizationMIProvUninstall.mof',\n",
       " 'deploymentcsphelper.exe',\n",
       " 'deploymentcsps.dll',\n",
       " 'desk.cpl',\n",
       " 'deskadp.dll',\n",
       " 'deskmon.dll',\n",
       " 'desktopimgdownldr.exe',\n",
       " 'DesktopKeepOnToastImg.gif',\n",
       " 'DesktopShellAppStateContract.dll',\n",
       " 'DesktopShellExt.dll',\n",
       " 'DesktopSwitcherDataModel.dll',\n",
       " 'DesktopView.Internal.Broker.dll',\n",
       " 'DesktopView.Internal.Broker.ProxyStub.dll',\n",
       " 'DetailedReading-Default.xml',\n",
       " 'DevDispItemProvider.dll',\n",
       " 'DeveloperOptionsSettingsHandlers.dll',\n",
       " 'devenum.dll',\n",
       " 'deviceaccess.dll',\n",
       " 'deviceassociation.dll',\n",
       " 'DeviceCensus.exe',\n",
       " 'DeviceCenter.dll',\n",
       " 'DeviceCredential.dll',\n",
       " 'DeviceCredentialDeployment.exe',\n",
       " 'DeviceDirectoryClient.dll',\n",
       " 'DeviceDisplayStatusManager.dll',\n",
       " 'DeviceDriverRetrievalClient.dll',\n",
       " 'DeviceEject.exe',\n",
       " 'DeviceElementSource.dll',\n",
       " 'DeviceEnroller.exe',\n",
       " 'DeviceFlows.DataModel.dll',\n",
       " 'DeviceMetadataRetrievalClient.dll',\n",
       " 'devicengccredprov.dll',\n",
       " 'DevicePairing.dll',\n",
       " 'DevicePairingExperienceMEM.dll',\n",
       " 'DevicePairingFolder.dll',\n",
       " 'DevicePairingProxy.dll',\n",
       " 'DevicePairingWizard.exe',\n",
       " 'DeviceProperties.exe',\n",
       " 'DeviceReactivation.dll',\n",
       " 'deviceregistration.dll',\n",
       " 'DeviceSetupManager.dll',\n",
       " 'DeviceSetupManagerAPI.dll',\n",
       " 'DeviceSetupStatusProvider.dll',\n",
       " 'DevicesFlowBroker.dll',\n",
       " 'DeviceSoftwareInstallationClient.dll',\n",
       " 'DeviceUpdateAgent.dll',\n",
       " 'DeviceUxRes.dll',\n",
       " 'devinv.dll',\n",
       " 'devmgmt.msc',\n",
       " 'devmgr.dll',\n",
       " 'DevModeRunAsUserConfig.msc',\n",
       " 'devobj.dll',\n",
       " 'DevPropMgr.dll',\n",
       " 'DevQueryBroker.dll',\n",
       " 'devrtl.dll',\n",
       " 'dfdts.dll',\n",
       " 'DFDWiz.exe',\n",
       " 'dfrgui.exe',\n",
       " 'dfscli.dll',\n",
       " 'dfshim.dll',\n",
       " 'DfsShlEx.dll',\n",
       " 'dhcpcmonitor.dll',\n",
       " 'dhcpcore.dll',\n",
       " 'dhcpcore6.dll',\n",
       " 'dhcpcsvc.dll',\n",
       " 'dhcpcsvc6.dll',\n",
       " 'dhcpsapi.dll',\n",
       " 'DHolographicDisplay.dll',\n",
       " 'DiagCpl.dll',\n",
       " 'diagnosticdataquery.dll',\n",
       " 'DiagnosticInvoker.dll',\n",
       " 'DiagnosticLogCSP.dll',\n",
       " 'diagperf.dll',\n",
       " 'DiagSvc.dll',\n",
       " 'DiagSvcs',\n",
       " 'diagtrack.dll',\n",
       " 'dialclient.dll',\n",
       " 'dialer.exe',\n",
       " 'dialserver.dll',\n",
       " 'DictationManager.dll',\n",
       " 'difxapi.dll',\n",
       " 'dimsjob.dll',\n",
       " 'dimsroam.dll',\n",
       " 'dinput.dll',\n",
       " 'dinput8.dll',\n",
       " 'Direct2DDesktop.dll',\n",
       " 'directmanipulation.dll',\n",
       " 'directml.dll',\n",
       " 'directxdatabaseupdater.exe',\n",
       " 'discan.dll',\n",
       " 'diskmgmt.msc',\n",
       " 'diskpart.exe',\n",
       " 'diskperf.exe',\n",
       " 'diskraid.exe',\n",
       " 'DiskSnapshot.conf',\n",
       " 'DiskSnapshot.exe',\n",
       " 'Dism',\n",
       " 'Dism.exe',\n",
       " 'DismApi.dll',\n",
       " 'DispBroker.Desktop.dll',\n",
       " 'DispBroker.dll',\n",
       " 'dispdiag.exe',\n",
       " 'dispex.dll',\n",
       " 'Display.dll',\n",
       " 'DisplayManager.dll',\n",
       " 'DisplaySwitch.exe',\n",
       " 'DisplaySystemToastIcon.contrast-white.png',\n",
       " 'DisplaySystemToastIcon.png',\n",
       " 'djctq.rs',\n",
       " 'djoin.exe',\n",
       " 'dllhost.exe',\n",
       " 'dllhst3g.exe',\n",
       " 'dlnashext.dll',\n",
       " 'DMAlertListener.ProxyStub.dll',\n",
       " 'DmApiSetExtImplDesktop.dll',\n",
       " 'DMAppsRes.dll',\n",
       " 'dmcertinst.exe',\n",
       " 'dmcfghost.exe',\n",
       " 'dmcfgutils.dll',\n",
       " 'dmclient.exe',\n",
       " 'dmcmnutils.dll',\n",
       " 'dmcommandlineutils.dll',\n",
       " 'dmcsps.dll',\n",
       " 'dmdlgs.dll',\n",
       " 'dmdskmgr.dll',\n",
       " 'dmdskres.dll',\n",
       " 'dmdskres2.dll',\n",
       " 'dmenrollengine.dll',\n",
       " 'dmenterprisediagnostics.dll',\n",
       " 'dmintf.dll',\n",
       " 'dmiso8601utils.dll',\n",
       " 'dmloader.dll',\n",
       " 'DmNotificationBroker.exe',\n",
       " 'dmocx.dll',\n",
       " 'dmoleaututils.dll',\n",
       " 'DmOmaCpMo.exe',\n",
       " 'dmprocessxmlfiltered.dll',\n",
       " 'dmpushproxy.dll',\n",
       " 'DMPushRouterCore.dll',\n",
       " 'DMRCDecoder.dll',\n",
       " 'DMRServer.dll',\n",
       " 'dmsynth.dll',\n",
       " 'dmusic.dll',\n",
       " 'dmutil.dll',\n",
       " 'dmvdsitf.dll',\n",
       " 'dmview.ocx',\n",
       " 'dmwappushsvc.dll',\n",
       " 'dmwmicsp.dll',\n",
       " 'dmxmlhelputils.dll',\n",
       " 'dnsapi.dll',\n",
       " 'dnscacheugc.exe',\n",
       " 'dnscmmc.dll',\n",
       " 'dnsext.dll',\n",
       " 'dnshc.dll',\n",
       " 'dnsrslvr.dll',\n",
       " 'Docking.VirtualInput.dll',\n",
       " 'DockInterface.ProxyStub.dll',\n",
       " 'docprop.dll',\n",
       " 'DocumentPerformanceEvents.dll',\n",
       " 'DolbyDecMFT.dll',\n",
       " 'domgmt.dll',\n",
       " 'dosettings.dll',\n",
       " 'doskey.exe',\n",
       " 'dosvc.dll',\n",
       " 'dot3api.dll',\n",
       " 'dot3cfg.dll',\n",
       " 'Dot3Conn.dll',\n",
       " 'dot3dlg.dll',\n",
       " 'dot3gpclnt.dll',\n",
       " 'dot3gpui.dll',\n",
       " 'dot3hc.dll',\n",
       " 'dot3mm.dll',\n",
       " 'dot3msm.dll',\n",
       " 'dot3svc.dll',\n",
       " 'dot3ui.dll',\n",
       " 'downlevel',\n",
       " 'dpapi.dll',\n",
       " 'dpapimig.exe',\n",
       " 'dpapiprovider.dll',\n",
       " 'dpapisrv.dll',\n",
       " 'DpiScaling.exe',\n",
       " 'dpnaddr.dll',\n",
       " 'dpnathlp.dll',\n",
       " 'dpnet.dll',\n",
       " 'dpnhpast.dll',\n",
       " 'dpnhupnp.dll',\n",
       " 'dpnlobby.dll',\n",
       " 'dpnsvr.exe',\n",
       " 'dps.dll',\n",
       " 'dpx.dll',\n",
       " 'DragDropExperienceCommon.dll',\n",
       " 'DragDropExperienceDataExchangeDelegated.dll',\n",
       " 'driverquery.exe',\n",
       " 'drivers',\n",
       " 'DriverState',\n",
       " 'DriverStore',\n",
       " 'drprov.dll',\n",
       " 'drt.dll',\n",
       " 'DrtmAuthTxt.wim',\n",
       " 'drtprov.dll',\n",
       " 'drttransport.dll',\n",
       " 'drvinst.exe',\n",
       " 'drvsetup.dll',\n",
       " 'DRVSTORE',\n",
       " 'drvstore.dll',\n",
       " 'dsauth.dll',\n",
       " 'dsc',\n",
       " 'DscCore.dll',\n",
       " 'DscCoreConfProv.dll',\n",
       " 'dsclient.dll',\n",
       " 'dscproxy.dll',\n",
       " 'DscTimer.dll',\n",
       " 'dsdmo.dll',\n",
       " 'dskquota.dll',\n",
       " 'dskquoui.dll',\n",
       " 'DsmUserTask.exe',\n",
       " 'dsound.dll',\n",
       " 'dsparse.dll',\n",
       " 'dsprop.dll',\n",
       " 'dsquery.dll',\n",
       " ...]"
      ]
     },
     "execution_count": 21,
     "metadata": {},
     "output_type": "execute_result"
    }
   ],
   "source": [
    "# get a list of filename strings for eac file in the path\n",
    "os.listdir('C:\\\\Windows\\\\System32')"
   ]
  },
  {
   "cell_type": "code",
   "execution_count": 23,
   "metadata": {},
   "outputs": [
    {
     "name": "stdout",
     "output_type": "stream",
     "text": [
      "1967622943\n"
     ]
    }
   ],
   "source": [
    "# get size of all the files in a directory\n",
    "totalSize = 0\n",
    "for filename in os.listdir('C:\\\\Windows\\\\System32'):\n",
    "        totalSize = totalSize + os.path.getsize(os.path.join('C:\\\\Windows\\\\System32',filename))\n",
    "        \n",
    "print(totalSize)"
   ]
  },
  {
   "cell_type": "markdown",
   "metadata": {},
   "source": [
    "### Checking Path Validity"
   ]
  },
  {
   "cell_type": "code",
   "execution_count": 24,
   "metadata": {},
   "outputs": [
    {
     "data": {
      "text/plain": [
       "True"
      ]
     },
     "execution_count": 24,
     "metadata": {},
     "output_type": "execute_result"
    }
   ],
   "source": [
    "#check wheter a given path exists to avoid funcstions cashing\n",
    "# return True if file or folder exists\n",
    "os.path.exists(path)"
   ]
  },
  {
   "cell_type": "code",
   "execution_count": 25,
   "metadata": {},
   "outputs": [
    {
     "data": {
      "text/plain": [
       "True"
      ]
     },
     "execution_count": 25,
     "metadata": {},
     "output_type": "execute_result"
    }
   ],
   "source": [
    "# return Ture if path exits and is a file\n",
    "os.path.isfile(path)"
   ]
  },
  {
   "cell_type": "code",
   "execution_count": 26,
   "metadata": {},
   "outputs": [
    {
     "data": {
      "text/plain": [
       "'C:\\\\Windows\\\\System32\\\\calc.exe'"
      ]
     },
     "execution_count": 26,
     "metadata": {},
     "output_type": "execute_result"
    }
   ],
   "source": [
    "path"
   ]
  },
  {
   "cell_type": "code",
   "execution_count": 28,
   "metadata": {},
   "outputs": [
    {
     "data": {
      "text/plain": [
       "False"
      ]
     },
     "execution_count": 28,
     "metadata": {},
     "output_type": "execute_result"
    }
   ],
   "source": [
    "# return True if path arugment exists and is a folder \n",
    "os.path.isdir(path)"
   ]
  },
  {
   "cell_type": "code",
   "execution_count": 29,
   "metadata": {},
   "outputs": [
    {
     "data": {
      "text/plain": [
       "True"
      ]
     },
     "execution_count": 29,
     "metadata": {},
     "output_type": "execute_result"
    }
   ],
   "source": [
    "# check for a flash drive with volume named D:\\\n",
    "os.path.exists('D:\\\\')"
   ]
  },
  {
   "cell_type": "markdown",
   "metadata": {},
   "source": [
    "## The File reading/writing process\n",
    "\n",
    "plaintext files - only contain basic text charactors and no font, size or color information.\n",
    "* .txt\n",
    "- .py\n",
    "\n",
    "Binary files - when try to open in notepad, you see scrambled words (not covered in this chapter)\n",
    "* word docs, PDFs, images, spreadsheets\n",
    "- modules that work with binary files\n",
    " + shelve\n",
    " \n",
    "three steps to reading files in python\n",
    "1. call open()\n",
    "2. call read() or write()\n",
    "3. close with close()\n"
   ]
  },
  {
   "cell_type": "markdown",
   "metadata": {},
   "source": [
    "### opening files"
   ]
  },
  {
   "cell_type": "code",
   "execution_count": 33,
   "metadata": {},
   "outputs": [],
   "source": [
    "# Python lets you only read data from a file in read mode. You can't write or modify it in any way.\n",
    "# open() returns a File object which can then have its content read with the read() method\n",
    "helloFile = open('C:\\\\Users\\\\edwar\\\\data-science\\\\automate_boring_stuff\\\\hello.txt', 'r')"
   ]
  },
  {
   "cell_type": "markdown",
   "metadata": {},
   "source": [
    "### reading files"
   ]
  },
  {
   "cell_type": "code",
   "execution_count": 34,
   "metadata": {},
   "outputs": [
    {
     "data": {
      "text/plain": [
       "'Hello world!'"
      ]
     },
     "execution_count": 34,
     "metadata": {},
     "output_type": "execute_result"
    }
   ],
   "source": [
    "# returns file contents as a single large string value\n",
    "helloContent = helloFile.read()\n",
    "helloContent"
   ]
  },
  {
   "cell_type": "code",
   "execution_count": 35,
   "metadata": {},
   "outputs": [
    {
     "data": {
      "text/plain": [
       "[\"When, in disgrace with fortune and men's eyes,\\n\",\n",
       " 'I all alone beweep my outcast state,\\n',\n",
       " 'And trouble deaf heaven with my bootless cries,\\n',\n",
       " 'And look upon myself and curse my fate,\\n']"
      ]
     },
     "execution_count": 35,
     "metadata": {},
     "output_type": "execute_result"
    }
   ],
   "source": [
    "# readlines() method returns a list of string values from the fine, one string for each line of text\n",
    "# a list of strings is often easier to work with than a single large string value\n",
    "sonnetFile = open('sonnet29.txt')\n",
    "sonnetFile.readlines()"
   ]
  },
  {
   "cell_type": "markdown",
   "metadata": {},
   "source": [
    "### Writing to files\n",
    "You can't write to a file you've opened in read mode. You need to open it in \"write plaintext\" mode or \"append plaintext\" mode.\n",
    "* write mode\n",
    " + will overwrite the existing file and start from scratch.\n",
    " + pass 'w' as second argument to open()\n",
    "- append mode\n",
    " + will append text to the end of the existing file\n",
    " + pass 'a' as the second argument to open()"
   ]
  },
  {
   "cell_type": "code",
   "execution_count": 36,
   "metadata": {},
   "outputs": [
    {
     "data": {
      "text/plain": [
       "13"
      ]
     },
     "execution_count": 36,
     "metadata": {},
     "output_type": "execute_result"
    }
   ],
   "source": [
    "#create the file\n",
    "baconFile = open('bacon.txt', 'w')\n",
    "baconFile.write('Hello world!\\n')"
   ]
  },
  {
   "cell_type": "code",
   "execution_count": 38,
   "metadata": {},
   "outputs": [],
   "source": [
    "# close file before opening file again\n",
    "baconFile.close()"
   ]
  },
  {
   "cell_type": "code",
   "execution_count": 39,
   "metadata": {},
   "outputs": [
    {
     "data": {
      "text/plain": [
       "25"
      ]
     },
     "execution_count": 39,
     "metadata": {},
     "output_type": "execute_result"
    }
   ],
   "source": [
    "# add new line to file (method below does not overwrites existing content)\n",
    "baconFile = open('bacon.txt', 'a')\n",
    "baconFile.write('Bacon is not a vegetable.')"
   ]
  },
  {
   "cell_type": "code",
   "execution_count": 40,
   "metadata": {},
   "outputs": [],
   "source": [
    "baconFile.close()"
   ]
  },
  {
   "cell_type": "code",
   "execution_count": 41,
   "metadata": {},
   "outputs": [
    {
     "name": "stdout",
     "output_type": "stream",
     "text": [
      "Hello world!\n",
      "Bacon is not a vegetable.\n"
     ]
    }
   ],
   "source": [
    "#read cotent of the file\n",
    "baconFile=open('bacon.txt')\n",
    "content = baconFile.read()\n",
    "baconFile.close()\n",
    "print(content)"
   ]
  },
  {
   "cell_type": "markdown",
   "metadata": {},
   "source": [
    "## Saving Variables with the shelve module\n",
    "Plaintext is useful for crating files that your'll read in a text editor such as Notepad or TextEdit, but if you want to save data from your Python programs, use the shelve module.\n"
   ]
  },
  {
   "cell_type": "code",
   "execution_count": 1,
   "metadata": {},
   "outputs": [],
   "source": [
    "import shelve"
   ]
  },
  {
   "cell_type": "code",
   "execution_count": 4,
   "metadata": {},
   "outputs": [],
   "source": [
    "shelFile = shelve.open('mydata')\n",
    "cats = ['Zophie', 'Pooka', 'Simon']\n",
    "shelFile['cats'] = cats\n",
    "shelFile.close()"
   ]
  },
  {
   "cell_type": "code",
   "execution_count": 5,
   "metadata": {},
   "outputs": [
    {
     "data": {
      "text/plain": [
       "shelve.DbfilenameShelf"
      ]
     },
     "execution_count": 5,
     "metadata": {},
     "output_type": "execute_result"
    }
   ],
   "source": [
    "# Shelf values don't have to be opened in read or write mode--they can do both once opened\n",
    "shelFile = shelve.open('mydata')\n",
    "type(shelFile)"
   ]
  },
  {
   "cell_type": "code",
   "execution_count": 6,
   "metadata": {},
   "outputs": [
    {
     "data": {
      "text/plain": [
       "['Zophie', 'Pooka', 'Simon']"
      ]
     },
     "execution_count": 6,
     "metadata": {},
     "output_type": "execute_result"
    }
   ],
   "source": [
    "shelFile['cats']"
   ]
  },
  {
   "cell_type": "code",
   "execution_count": 7,
   "metadata": {},
   "outputs": [],
   "source": [
    "shelFile.close()"
   ]
  },
  {
   "cell_type": "markdown",
   "metadata": {},
   "source": [
    "## Saving Variables with the pprint.pformat() Function\n",
    "The benefit of creating a .py file (as opposed to saving varibles with the shelve module) is that because it is a text file, the conents of the file can be read and modified by anyone wiht a simple text editor."
   ]
  },
  {
   "cell_type": "code",
   "execution_count": 8,
   "metadata": {},
   "outputs": [],
   "source": [
    "import pprint"
   ]
  },
  {
   "cell_type": "code",
   "execution_count": 9,
   "metadata": {},
   "outputs": [],
   "source": [
    "cats = [{'name': 'Zophie', 'desc': 'chubby'}, {'name': 'Pooka', 'desc': 'fluffy'}]"
   ]
  },
  {
   "cell_type": "code",
   "execution_count": 12,
   "metadata": {},
   "outputs": [
    {
     "data": {
      "text/plain": [
       "[{'name': 'Zophie', 'desc': 'chubby'}, {'name': 'Pooka', 'desc': 'fluffy'}]"
      ]
     },
     "execution_count": 12,
     "metadata": {},
     "output_type": "execute_result"
    }
   ],
   "source": [
    "cats"
   ]
  },
  {
   "cell_type": "code",
   "execution_count": 11,
   "metadata": {},
   "outputs": [
    {
     "data": {
      "text/plain": [
       "\"[{'desc': 'chubby', 'name': 'Zophie'}, {'desc': 'fluffy', 'name': 'Pooka'}]\""
      ]
     },
     "execution_count": 11,
     "metadata": {},
     "output_type": "execute_result"
    }
   ],
   "source": [
    "pprint.pformat(cats)"
   ]
  },
  {
   "cell_type": "code",
   "execution_count": 14,
   "metadata": {},
   "outputs": [
    {
     "data": {
      "text/plain": [
       "83"
      ]
     },
     "execution_count": 14,
     "metadata": {},
     "output_type": "execute_result"
    }
   ],
   "source": [
    "fileObj = open('myCats.py', 'w')\n",
    "fileObj.write('cats = ' + pprint.pformat(cats) + '\\n')"
   ]
  },
  {
   "cell_type": "code",
   "execution_count": 15,
   "metadata": {},
   "outputs": [],
   "source": [
    "fileObj.close()"
   ]
  },
  {
   "cell_type": "code",
   "execution_count": 16,
   "metadata": {},
   "outputs": [
    {
     "data": {
      "text/plain": [
       "[{'desc': 'chubby', 'name': 'Zophie'}, {'desc': 'fluffy', 'name': 'Pooka'}]"
      ]
     },
     "execution_count": 16,
     "metadata": {},
     "output_type": "execute_result"
    }
   ],
   "source": [
    "import myCats\n",
    "myCats.cats"
   ]
  }
 ],
 "metadata": {
  "kernelspec": {
   "display_name": "Python 3",
   "language": "python",
   "name": "python3"
  },
  "language_info": {
   "codemirror_mode": {
    "name": "ipython",
    "version": 3
   },
   "file_extension": ".py",
   "mimetype": "text/x-python",
   "name": "python",
   "nbconvert_exporter": "python",
   "pygments_lexer": "ipython3",
   "version": "3.8.3"
  },
  "toc": {
   "base_numbering": 1,
   "nav_menu": {},
   "number_sections": true,
   "sideBar": true,
   "skip_h1_title": false,
   "title_cell": "Table of Contents",
   "title_sidebar": "Contents",
   "toc_cell": false,
   "toc_position": {},
   "toc_section_display": true,
   "toc_window_display": false
  }
 },
 "nbformat": 4,
 "nbformat_minor": 4
}
